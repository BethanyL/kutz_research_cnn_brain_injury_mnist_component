{
 "cells": [
  {
   "cell_type": "code",
   "execution_count": 1,
   "metadata": {
    "collapsed": false
   },
   "outputs": [
    {
     "name": "stdout",
     "output_type": "stream",
     "text": [
      "Extracting MNIST_data/train-images-idx3-ubyte.gz\n",
      "Extracting MNIST_data/train-labels-idx1-ubyte.gz\n",
      "Extracting MNIST_data/t10k-images-idx3-ubyte.gz\n",
      "Extracting MNIST_data/t10k-labels-idx1-ubyte.gz\n"
     ]
    }
   ],
   "source": [
    "# Modules and data imports\n",
    "\n",
    "from tensorflow.examples.tutorials.mnist import input_data\n",
    "import tensorflow as tf\n",
    "import os\n",
    "import copy\n",
    "import math\n",
    "import random\n",
    "import numpy as np\n",
    "\n",
    "#########\n",
    "mnist = input_data.read_data_sets('MNIST_data', one_hot=True)\n",
    "sess = tf.InteractiveSession()"
   ]
  },
  {
   "cell_type": "code",
   "execution_count": 2,
   "metadata": {
    "collapsed": true
   },
   "outputs": [],
   "source": [
    "damage_sizes = [0.0, 0.1, 0.2, 0.3, 0.4, 0.5, 0.6, 0.7, 0.8, 0.9, 1.0]\n",
    "number_of_trials = 10"
   ]
  },
  {
   "cell_type": "code",
   "execution_count": 3,
   "metadata": {
    "collapsed": true
   },
   "outputs": [],
   "source": [
    "# default Google defined tensorflow functions\n",
    "\n",
    "def weight_variable(shape):\n",
    "    initial = tf.truncated_normal(shape, stddev=0.1)\n",
    "    return tf.Variable(initial)\n",
    "\n",
    "def bias_variable(shape):\n",
    "    initial = tf.constant(0.1, shape=shape)\n",
    "    return tf.Variable(initial)\n",
    "\n",
    "def conv2d(x, W):\n",
    "    return tf.nn.conv2d(x, W, strides=[1, 1, 1, 1], padding='SAME')\n",
    "\n",
    "def max_pool_2x2(x):\n",
    "    return tf.nn.max_pool(x, ksize=[1, 2, 2, 1],\n",
    "                           strides=[1, 2, 2, 1], padding='SAME')"
   ]
  },
  {
   "cell_type": "code",
   "execution_count": 61,
   "metadata": {
    "collapsed": true
   },
   "outputs": [],
   "source": [
    "# new functions to facilitate damaging the network.\n",
    "\n",
    "def damage_network(network_matrices, dmg_size, alpha):\n",
    "    matrix_shapes = get_matrix_shapes(network_matrices)\n",
    "    matrices_as_vector = vectorize_network(network_matrices)\n",
    "    damage_indices = get_damage_indices(matrices_as_vector, dmg_size)\n",
    "    matrices_as_vector[damage_indices] = alpha\n",
    "    return reshape_matrices(matrices_as_vector, matrix_shapes)\n",
    "\n",
    "def filter_network(network_matrices, percentile_window, alpha, filter_type):\n",
    "    matrix_shapes = get_matrix_shapes(network_matrices)\n",
    "    matrices_as_vector = vectorize_network(network_matrices)\n",
    "    if filter_type == \"inside\":\n",
    "        return_vector = filter_vector_in(matrices_as_vector, percentile_window, alpha)\n",
    "    elif filter_type == \"outside\":\n",
    "        return_vector = filter_vector_out(matrices_as_vector, percentile_window, alpha)\n",
    "    print(len(matrices_as_vector))\n",
    "    print(len(return_vector[np.nonzero(return_vector)]))\n",
    "    return reshape_matrices(return_vector, matrix_shapes)\n",
    "    \n",
    "def get_matrix_shapes(network_matrices):\n",
    "    list_of_shapes = []\n",
    "    for matrix in network_matrices:\n",
    "        list_of_shapes.append(list(matrix.shape))\n",
    "    return list_of_shapes\n",
    "\n",
    "def vectorize_network(network_matrices):\n",
    "    vector = np.empty(0)\n",
    "    for matrix in network_matrices:\n",
    "        vector = np.append(vector, np.reshape(copy.copy(matrix), -1))\n",
    "    return vector\n",
    "\n",
    "def get_damage_indices(matrices_as_vector, dmg_size):\n",
    "    num_elements_to_damage = int(math.floor(dmg_size * len(matrices_as_vector)))\n",
    "    non_zero_elements = np.nonzero(matrices_as_vector)\n",
    "    linear_indices = random.sample(range(0, len(non_zero_elements[0])), num_elements_to_damage)\n",
    "    return non_zero_elements[0][linear_indices]\n",
    "\n",
    "def alpha_zero():\n",
    "    return 0\n",
    "\n",
    "def reshape_matrices(matrix_as_vector, matrix_shapes):\n",
    "    matrices = []\n",
    "    vector_lengths = get_vector_lengths(matrix_shapes)\n",
    "    for i in range(len(matrix_shapes)):\n",
    "        matrices.append(\\\n",
    "            np.reshape(\\\n",
    "                matrix_as_vector[sum(vector_lengths[0:i+1]):sum(vector_lengths[0:(i+2)])],\\\n",
    "                       matrix_shapes[i]))\n",
    "    return matrices\n",
    "\n",
    "def get_vector_lengths(matrix_shapes):\n",
    "    length = [0]\n",
    "    for shape in matrix_shapes:\n",
    "        length.append(np.prod(shape))\n",
    "    return length\n",
    "\n",
    "def filter_vector_in(matrices_as_vector, percentile_window, alpha):\n",
    "    upper_perc = np.percentile(matrices_as_vector, 50 + percentile_window)\n",
    "    lower_perc = np.percentile(matrices_as_vector, 50 - percentile_window)\n",
    "    for i in range(len(matrices_as_vector)):\n",
    "        if (matrices_as_vector[i] <= upper_perc and matrices_as_vector[i] >= lower_perc):\n",
    "            matrices_as_vector[i] = alpha\n",
    "    return matrices_as_vector\n",
    "\n",
    "def filter_vector_out(matrices_as_vector, percentile_window, alpha):\n",
    "    upper_perc = np.percentile(matrices_as_vector, 100 - percentile_window)\n",
    "    lower_perc = np.percentile(matrices_as_vector, 0 + percentile_window)\n",
    "    for i in range(len(matrices_as_vector)):\n",
    "        if (matrices_as_vector[i] > upper_perc or matrices_as_vector[i] < lower_perc):\n",
    "            matrices_as_vector[i] = alpha\n",
    "    return matrices_as_vector\n",
    "\n",
    "def test_network(network_matrices):\n",
    "    out = \"%g\"%accuracy.eval(feed_dict={\n",
    "        x: mnist.test.images, y_: mnist.test.labels, \n",
    "        W_conv1: network_matrices[0],\n",
    "        W_conv2: network_matrices[1],\n",
    "        W_fc1: network_matrices[2],\n",
    "        keep_prob: 1.0})\n",
    "    print(out)"
   ]
  },
  {
   "cell_type": "code",
   "execution_count": 62,
   "metadata": {
    "collapsed": true
   },
   "outputs": [],
   "source": [
    "x = tf.placeholder(\"float\", shape=[None, 784])\n",
    "y_ = tf.placeholder(\"float\", shape=[None, 10])\n",
    "\n",
    "W_conv1 = weight_variable([5, 5, 1, 32])\n",
    "b_conv1 = bias_variable([32])\n",
    "\n",
    "x_image = tf.reshape(x, [-1, 28, 28, 1])\n",
    "\n",
    "h_conv1 = tf.nn.relu(conv2d(x_image, W_conv1) + b_conv1)\n",
    "h_pool1 = max_pool_2x2(h_conv1)\n",
    "\n",
    "W_conv2 = weight_variable([5, 5, 32, 64])\n",
    "b_conv2 = bias_variable([64])\n",
    "\n",
    "h_conv2 = tf.nn.relu(conv2d(h_pool1, W_conv2) + b_conv2)\n",
    "\n",
    "h_pool2 = max_pool_2x2(h_conv2)\n",
    "\n",
    "W_fc1 = weight_variable([7 * 7 * 64, 10])\n",
    "b_fc1 = bias_variable([10])\n",
    "\n",
    "h_pool2_flat = tf.reshape(h_pool2, [-1, 7*7*64])\n",
    "keep_prob = tf.placeholder(\"float\")\n",
    "y_conv = tf.nn.softmax(tf.matmul(h_pool2_flat, W_fc1) + b_fc1)\n",
    "\n",
    "predicted = tf.argmax(y_conv, 1)\n",
    "actual = tf.argmax(y_, 1)\n",
    "correct_prediction = tf.equal(predicted, actual)\n",
    "\n",
    "accuracy = tf.reduce_mean(tf.cast(correct_prediction, \"float\"))\n",
    "sess.run(tf.initialize_all_variables())"
   ]
  },
  {
   "cell_type": "code",
   "execution_count": 6,
   "metadata": {
    "collapsed": false
   },
   "outputs": [],
   "source": [
    "# import already trained model/network  \n",
    "\n",
    "saver = tf.train.Saver()\n",
    "ckpt = tf.train.get_checkpoint_state(os.getcwd())\n",
    "saver.restore(sess, ckpt.model_checkpoint_path)"
   ]
  },
  {
   "cell_type": "code",
   "execution_count": 7,
   "metadata": {
    "collapsed": false
   },
   "outputs": [],
   "source": [
    "# Converts weight matrices from tensorflow tensor objects to real value numpy arrays with sess.run\n",
    "# packs them together in a list to contain all of the weight matrices.\n",
    "\n",
    "matrices_to_damage =\\\n",
    "    [np.asarray(sess.run(W_conv1)),\n",
    "     np.asarray(sess.run(W_conv2)),\n",
    "     np.asarray(sess.run(W_fc1))]\n",
    "    "
   ]
  },
  {
   "cell_type": "code",
   "execution_count": 66,
   "metadata": {
    "collapsed": false
   },
   "outputs": [
    {
     "name": "stdout",
     "output_type": "stream",
     "text": [
      "83360\n",
      "81692\n",
      "83360\n",
      "81692\n",
      "0.9871\n",
      "0.7797\n"
     ]
    }
   ],
   "source": [
    "damage_amount = alpha_zero()\n",
    "damaged_network = damage_network(matrices_to_damage, 0.0, damage_amount)\n",
    "\n",
    "in_ = filter_network(matrices_to_damage, 1, 0, \"inside\")\n",
    "out = filter_network(matrices_to_damage, 1, 0, \"outside\")\n",
    "test_network(in_)\n",
    "test_network(out)"
   ]
  },
  {
   "cell_type": "code",
   "execution_count": 12,
   "metadata": {
    "collapsed": true
   },
   "outputs": [],
   "source": []
  },
  {
   "cell_type": "code",
   "execution_count": null,
   "metadata": {
    "collapsed": true
   },
   "outputs": [],
   "source": []
  }
 ],
 "metadata": {
  "kernelspec": {
   "display_name": "Python 2",
   "language": "python",
   "name": "python2"
  },
  "language_info": {
   "codemirror_mode": {
    "name": "ipython",
    "version": 2
   },
   "file_extension": ".py",
   "mimetype": "text/x-python",
   "name": "python",
   "nbconvert_exporter": "python",
   "pygments_lexer": "ipython2",
   "version": "2.7.10"
  }
 },
 "nbformat": 4,
 "nbformat_minor": 0
}
